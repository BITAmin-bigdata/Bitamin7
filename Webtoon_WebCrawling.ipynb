{
 "cells": [
  {
   "cell_type": "code",
   "execution_count": 2,
   "metadata": {},
   "outputs": [],
   "source": [
    "import pandas as pd\n",
    "from selenium.webdriver import Chrome\n",
    "from time import sleep\n",
    "from urllib.parse import urljoin"
   ]
  },
  {
   "cell_type": "code",
   "execution_count": 3,
   "metadata": {},
   "outputs": [],
   "source": [
    "browser = Chrome() "
   ]
  },
  {
   "cell_type": "code",
   "execution_count": 4,
   "metadata": {},
   "outputs": [],
   "source": [
    "url_연애혁명= [f'https://comic.naver.com/comment/comment.nhn?titleId=570503&no={i+1}' for i in range(3)]"
   ]
  },
  {
   "cell_type": "code",
   "execution_count": 13,
   "metadata": {},
   "outputs": [],
   "source": [
    "def webtoon_crawling(urls) :\n",
    "    from selenium.webdriver import Chrome\n",
    "    comments=[]\n",
    "    for url in urls:\n",
    "        browser.get(url)\n",
    "        if url[-1] == '1' :\n",
    "            browser.find_element_by_class_name('u_cbox_cleanbot_setbutton').click()\n",
    "            sleep(0.6)\n",
    "            browser.find_element_by_class_name('u_cbox_layer_cleanbot2_checkbox').click()\n",
    "            sleep(0.6)\n",
    "            browser.find_element_by_class_name('u_cbox_layer_cleanbot2_extrabtn').click()\n",
    "            sleep(0.6)\n",
    "\n",
    "        browser.find_element_by_class_name('u_cbox_in_view_comment').click()\n",
    "        sleep(0.6)\n",
    "\n",
    "\n",
    "\n",
    "\n",
    "        while browser.find_element_by_css_selector('.u_cbox_next.u_cbox_next_end').text == '맨뒤':\n",
    "        #for j in range(int(last_p)):\n",
    "            # 마지막 요소뽑은거 텍스트가 last_p보다 작으면 반복 \n",
    "\n",
    "            sleep(0.01)\n",
    "            if browser.find_element_by_class_name('u_cbox_next').text =='다음' :\n",
    "                sleep(0.01)\n",
    "\n",
    "\n",
    "                for j in range(10):\n",
    "                    try:\n",
    "                        browser.find_elements_by_class_name('u_cbox_page')[j].click()\n",
    "                        sleep(0.01)\n",
    "                        for i in range(len(browser.find_elements_by_css_selector('.u_cbox_contents'))):\n",
    "                            sleep(0.01)\n",
    "                            comment=browser.find_elements_by_css_selector('.u_cbox_contents')[i].text\n",
    "                            sleep(0.01)\n",
    "                        #comments.extend(browser.find_elements_by_css_selector('.u_cbox_contents')[i].text)\n",
    "                        #sleep(0.6)\n",
    "                            rec=browser.find_elements_by_css_selector('.u_cbox_cnt_recomm')[i].text\n",
    "                            sleep(0.01)\n",
    "                            unrec=browser.find_elements_by_css_selector('.u_cbox_cnt_unrecomm')[i].text\n",
    "                            sleep(0.01)\n",
    "                            comments.append((comment,rec,unrec))\n",
    "                    except:\n",
    "                        continue\n",
    "                browser.find_element_by_class_name('u_cbox_next').click()\n",
    "                sleep(0.6)\n",
    "\n",
    "            else :\n",
    "                sleep(0.01)\n",
    "                for j in range(len(browser.find_elements_by_class_name('u_cbox_page'))):\n",
    "                    sleep(0.6)\n",
    "                    browser.find_elements_by_class_name('u_cbox_page')[j].click()\n",
    "                    sleep(0.6)\n",
    "                    try:\n",
    "                        for i in range(len(browser.find_elements_by_css_selector('.u_cbox_contents'))):\n",
    "                            sleep(0.01)\n",
    "                            comment=browser.find_elements_by_css_selector('.u_cbox_contents')[i].text\n",
    "                            sleep(0.01)\n",
    "                        #comments.extend(browser.find_elements_by_css_selector('.u_cbox_contents')[i].text)\n",
    "                        #sleep(0.6)\n",
    "                            rec=browser.find_elements_by_css_selector('.u_cbox_cnt_recomm')[i].text\n",
    "                            sleep(0.01)\n",
    "                            unrec=browser.find_elements_by_css_selector('.u_cbox_cnt_unrecomm')[i].text\n",
    "                            sleep(0.01)\n",
    "                            comments.append((comment,rec,unrec))\n",
    "                    except :\n",
    "                        continue\n",
    "    \n",
    "\n",
    "    return comments\n",
    "#a = list(zip(*comments))\n",
    "#df = pd.DataFrame({'comments':a[0],'rec':a[1],'unrec':a[2]})\n",
    "#df.to_csv('급식아빠.csv')\n",
    "\n"
   ]
  },
  {
   "cell_type": "code",
   "execution_count": null,
   "metadata": {},
   "outputs": [],
   "source": [
    "comments = webtoon_crawling(url_연애혁명)\n",
    "a = list(zip(*comments))\n",
    "df = pd.DataFrame({'comments':a[0],'rec':a[1],'unrec':a[2]})\n",
    "df.to_csv('연애혁명.csv')"
   ]
  },
  {
   "cell_type": "code",
   "execution_count": null,
   "metadata": {},
   "outputs": [],
   "source": []
  }
 ],
 "metadata": {
  "kernelspec": {
   "display_name": "Python 3",
   "language": "python",
   "name": "python3"
  },
  "language_info": {
   "codemirror_mode": {
    "name": "ipython",
    "version": 3
   },
   "file_extension": ".py",
   "mimetype": "text/x-python",
   "name": "python",
   "nbconvert_exporter": "python",
   "pygments_lexer": "ipython3",
   "version": "3.8.5"
  }
 },
 "nbformat": 4,
 "nbformat_minor": 4
}
