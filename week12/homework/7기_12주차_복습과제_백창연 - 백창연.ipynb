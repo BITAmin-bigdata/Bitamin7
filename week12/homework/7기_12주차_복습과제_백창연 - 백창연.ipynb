{
 "cells": [
  {
   "cell_type": "code",
   "execution_count": 19,
   "id": "psychological-vancouver",
   "metadata": {},
   "outputs": [],
   "source": [
    "import selenium\n",
    "from selenium.webdriver import Chrome\n",
    "from selenium.webdriver.common.keys import Keys"
   ]
  },
  {
   "cell_type": "code",
   "execution_count": 26,
   "id": "alpine-parish",
   "metadata": {},
   "outputs": [],
   "source": [
    "browser = Chrome(executable_path= r'/Users/BCY/chromedriver')"
   ]
  },
  {
   "cell_type": "code",
   "execution_count": 36,
   "id": "toxic-chamber",
   "metadata": {},
   "outputs": [],
   "source": [
    "url = 'hhttps://www.sdm.go.kr/news/news/notice.do'\n",
    "browser.get(url.format(4))"
   ]
  },
  {
   "cell_type": "code",
   "execution_count": 45,
   "id": "narrative-british",
   "metadata": {},
   "outputs": [
    {
     "ename": "TypeError",
     "evalue": "'module' object is not callable",
     "output_type": "error",
     "traceback": [
      "\u001b[0;31m---------------------------------------------------------------------------\u001b[0m",
      "\u001b[0;31mTypeError\u001b[0m                                 Traceback (most recent call last)",
      "\u001b[0;32m<ipython-input-45-8111bfa384b2>\u001b[0m in \u001b[0;36m<module>\u001b[0;34m\u001b[0m\n\u001b[1;32m      1\u001b[0m \u001b[0;32mimport\u001b[0m \u001b[0mcssselect\u001b[0m\u001b[0;34m\u001b[0m\u001b[0;34m\u001b[0m\u001b[0m\n\u001b[1;32m      2\u001b[0m \u001b[0;34m\u001b[0m\u001b[0m\n\u001b[0;32m----> 3\u001b[0;31m \u001b[0minfo\u001b[0m \u001b[0;34m=\u001b[0m \u001b[0mcssselect\u001b[0m\u001b[0;34m(\u001b[0m\u001b[0;34m'aleft'\u001b[0m\u001b[0;34m)\u001b[0m\u001b[0;34m\u001b[0m\u001b[0;34m\u001b[0m\u001b[0m\n\u001b[0m\u001b[1;32m      4\u001b[0m \u001b[0minfo\u001b[0m\u001b[0;34m.\u001b[0m\u001b[0mtext\u001b[0m\u001b[0;34m\u001b[0m\u001b[0;34m\u001b[0m\u001b[0m\n",
      "\u001b[0;31mTypeError\u001b[0m: 'module' object is not callable"
     ]
    }
   ],
   "source": [
    "import cssselect\n",
    "\n",
    "info = cssselect('aleft')\n",
    "info.text"
   ]
  },
  {
   "cell_type": "code",
   "execution_count": 35,
   "id": "attempted-italic",
   "metadata": {},
   "outputs": [],
   "source": [
    "next = browser.find_elements_by_css_selector('.btn_next')\n",
    "next[0].click()"
   ]
  },
  {
   "cell_type": "code",
   "execution_count": null,
   "id": "fourth-arrival",
   "metadata": {},
   "outputs": [],
   "source": [
    "#특정 기관에 있는 정부지원사업 게시판 중 '창업'과 관련된 게시글만 뽑아보는 것을 하려 했으나 아무것도 하지 못하고 일단 제출합니다..\n",
    "#깃허브에 올라오는 코드로 다시 찾아보겠습니다\n",
    "#추가적으로, 혹시 웹크롤링 강의 녹화영상이 있으면 받아볼 수 있을지 문의드립니다"
   ]
  }
 ],
 "metadata": {
  "kernelspec": {
   "display_name": "Python 3",
   "language": "python",
   "name": "python3"
  },
  "language_info": {
   "codemirror_mode": {
    "name": "ipython",
    "version": 3
   },
   "file_extension": ".py",
   "mimetype": "text/x-python",
   "name": "python",
   "nbconvert_exporter": "python",
   "pygments_lexer": "ipython3",
   "version": "3.8.2"
  }
 },
 "nbformat": 4,
 "nbformat_minor": 5
}
