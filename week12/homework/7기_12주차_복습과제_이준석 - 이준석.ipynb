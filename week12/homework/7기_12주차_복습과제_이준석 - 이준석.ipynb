{
 "cells": [
  {
   "cell_type": "markdown",
   "metadata": {},
   "source": [
    "## <font color=pink>피드백</font>"
   ]
  },
  {
   "cell_type": "markdown",
   "metadata": {},
   "source": [
    "<font color=pink>\n",
    "1. 우선 굳이 train, test 분리가 필요없어 보입니다.<br>\n",
    "2. 제 사견으로는 영상의 조회수에 영향을 주는 요소가 너무 많고, 복잡하게 얽혀있기 때문에 이와 같은 방식은 적절한 결과를 도출해내기 어려울 것 같습니다.<br>\n",
    "3. 제목만을 사용하고자 하신다면, 조회수가 높은 영상들의 문서유사도(제목간)등을 고려함으로써 해당 채널에서 조회수를 높이는 latent variable을 찾아내는 방식으로 해보심이 어떨까 싶습니다.<br>\n",
    "4. 3에 대해 첨언하여 주제분석의 방향을 고려해보시면 좋을 것 같습니다. 하나의 채널에서 주 컨텐츠가 있지만, 여러가지 카테고리가 있습니다. 먹방이라도, ASMR이 있을 수 있고, 많이 먹는 영상이 있을 수 있죠 이들은 제목에 반영될 것이고, 조회수를 잘 뽑아내는 제목이 가지는 특성을 주제분석을 통해서 찾아낼 수 있지 않을까 싶습니다.<br>\n",
    "5. 단어의 빈도만을 이용하는 방식은 한계가 많고, 명확합니다. nlp쪽 최근 동향과 발전추이를 공부하신다면 더 나은 분석이 가능해지실 것 같습니다.<br>\n",
    "</font>"
   ]
  },
  {
   "cell_type": "markdown",
   "metadata": {},
   "source": [
    "# 비타민 7기 12주차 복습과제\n",
    "## 침착맨 Youtube 제목을 통한 조회수 예측\n",
    "## 비타민 7기 이준석\n",
    "\n",
    " 아무래도 Youtube에 크롤링할 흥미로운 데이터가 많을 것 같아 Youtube위주로 생각하다가 영상의 제목과 조회수의 관계에 대해 생각하게 되었습니다. 처음에는 Youtube의 인기 동영상 항목에 존재하는 영상들을 생각했지만, 최근 Youtube 영상들의 트렌드가 썸네일에 대부분의 정보들이 담겨있고 텍스트 타이틀에는 큰 의미가 없는 내용들 (예를 들어 요리 영상이지만 '이것만은 하지 말아주세요')을 담는 것이라 한계가 있다고 판단했습니다.  \n",
    " 여기서 제가 즐겨 시청하는 채널인 '침착맨'님의 영상으로 범위를 좁혀보자는 생각이 들었습니다. '침착맨'님의 영상들은 타이틀의 텍스트로도 매우 정확한 정보들을 얻을 수 있기 떄문이었습니다. (예를 들어 '맛알못 침착맨의 초밥 먹방')  \n",
    " '침착맨' 영상의 타이틀을 크롤링하여 konlpy를 이용해 BOW를 생성한뒤, 이를 통해 조회수와 연관시킬수 있지 않을까 하고 생각했습니다.  \n",
    " 미리 결론부터 말씀드리자면, 크롤링은 진행했지만 분석에 있어선 큰 진전을 보이지 못했습니다. 영상 제목과 조회수의 연관성을 알기 위해선 어떻게 해야할지 제 부족한 과제물 보시고 피드백부탁드립니다 ㅎㅎ,,"
   ]
  },
  {
   "cell_type": "markdown",
   "metadata": {},
   "source": [
    "### 1. 데이터 크롤링"
   ]
  },
  {
   "cell_type": "code",
   "execution_count": 1,
   "metadata": {},
   "outputs": [],
   "source": [
    "# Youtube는 BeautifulSoup으로 크롤링이 잘 진행되지 않아 Selenium을 통한 크롤링 진행\n",
    "import selenium\n",
    "from selenium import webdriver\n",
    "from selenium.webdriver.common.keys import Keys\n",
    "import time\n",
    "\n",
    "driver = webdriver.Chrome()"
   ]
  },
  {
   "cell_type": "code",
   "execution_count": 2,
   "metadata": {},
   "outputs": [],
   "source": [
    "# 침착맨 유튜브 채널 url\n",
    "url = \"https://www.youtube.com/user/zilioner83/videos\"\n",
    "driver.get(url.format(4))"
   ]
  },
  {
   "cell_type": "markdown",
   "metadata": {},
   "source": [
    "침착맨 Youtube 채널에서 과거 영상 목록들을 로드하기 위해선 페이지 하단으로 스크롤이 필요하다."
   ]
  },
  {
   "cell_type": "code",
   "execution_count": 3,
   "metadata": {},
   "outputs": [],
   "source": [
    "import datetime\n",
    "\n",
    "# whileSeconds초 동안 페이지를 스크롤하는 함수.\n",
    "def doScrollDown(whileSeconds):\n",
    "    start = datetime.datetime.now()\n",
    "    end = start + datetime.timedelta(seconds=whileSeconds)\n",
    "    while True:\n",
    "        driver.execute_script('window.scrollTo(0, 200000);')\n",
    "        time.sleep(1)\n",
    "        if datetime.datetime.now() > end:\n",
    "            break"
   ]
  },
  {
   "cell_type": "code",
   "execution_count": 74,
   "metadata": {},
   "outputs": [],
   "source": [
    "# 250초 정도 스크롤하면 4년 전 영상까지 로드 가능\n",
    "doScrollDown(250)"
   ]
  },
  {
   "cell_type": "code",
   "execution_count": 8,
   "metadata": {},
   "outputs": [],
   "source": [
    "# 침착맨 영상 제목, 길이, 조회수를 저장할 리스트\n",
    "video_title = []\n",
    "video_length = []\n",
    "views = []"
   ]
  },
  {
   "cell_type": "code",
   "execution_count": 5,
   "metadata": {},
   "outputs": [],
   "source": [
    "# 영상 제목, 조회수, 영상 길이를 담고 있는 태그들 선택\n",
    "cssid_video_title = driver.find_elements_by_css_selector('#video-title')\n",
    "cssid_text = driver.find_elements_by_css_selector('#text')"
   ]
  },
  {
   "cell_type": "code",
   "execution_count": 6,
   "metadata": {},
   "outputs": [
    {
     "name": "stdout",
     "output_type": "stream",
     "text": [
      "cssid_text 리스트의 길이:  9367\n",
      "cssid_video_title 리스트의 길이:  4680\n"
     ]
    }
   ],
   "source": [
    "# 영상 길이를 담고있는, 즉 id='text'인 태그가 다른 태그에비해 갯수가 많은것을 확인할 수 있음.\n",
    "print('cssid_text 리스트의 길이: ', len(cssid_text) )\n",
    "print('cssid_video_title 리스트의 길이: ', len(cssid_video_title) )"
   ]
  },
  {
   "cell_type": "code",
   "execution_count": 7,
   "metadata": {},
   "outputs": [
    {
     "name": "stdout",
     "output_type": "stream",
     "text": [
      "idx : 0  text:  탐색 건너뛰기\n",
      "idx : 1  text:  로그인\n",
      "idx : 2  text:  침착맨\n",
      "idx : 3  text:  구독\n",
      "idx : 4  text:  모두 재생\n",
      "idx : 5  text:  13:43\n",
      "idx : 6  text:  \n",
      "idx : 7  text:  19:54\n",
      "idx : 8  text:  \n",
      "idx : 9  text:  21:44\n",
      "idx : 10  text:  \n",
      "idx : 11  text:  17:08\n",
      "idx : 12  text:  \n",
      "idx : 13  text:  32:05\n",
      "idx : 14  text:  \n",
      "idx : 15  text:  17:35\n",
      "idx : 16  text:  \n",
      "idx : 17  text:  1:04:27\n",
      "idx : 18  text:  \n",
      "idx : 19  text:  33:32\n"
     ]
    }
   ],
   "source": [
    "# print를 통해 영상 길이가 어떠한 패턴으로 위치해있느지 파악\n",
    "for i in range(20):\n",
    "    print('idx :', i, ' text: ', cssid_text[i].text)\n"
   ]
  },
  {
   "cell_type": "code",
   "execution_count": 20,
   "metadata": {},
   "outputs": [],
   "source": [
    "# 위 패턴을 이용해 조회수 저장\n",
    "for i in range(5, len(cssid_text)-2, 2):\n",
    "    video_length.append(cssid_text[i].text)"
   ]
  },
  {
   "cell_type": "code",
   "execution_count": 9,
   "metadata": {},
   "outputs": [],
   "source": [
    "# 영상 제목과, 조회수를 저장\n",
    "# 조회수는 속성값을 가져와 리스트화, 마지막 인덱스에 저장되어있는 것을 사용\n",
    "for block in cssid_video_title:\n",
    "    video_title.append(block.text)\n",
    "    views.append(block.get_attribute(\"aria-label\").split(\" \")[-1])"
   ]
  },
  {
   "cell_type": "markdown",
   "metadata": {},
   "source": [
    "### 02. 데이터 가공"
   ]
  },
  {
   "cell_type": "code",
   "execution_count": 10,
   "metadata": {},
   "outputs": [],
   "source": [
    "# 예를 들어 '111,111회' 와 같은 문자열을 111111이라는 정수로 변환하여 저장\n",
    "for idx, view in enumerate(views):\n",
    "    tmp = view.replace(\"회\", \"\")\n",
    "    tmp = tmp.replace(\",\", \"\")\n",
    "    views[idx] = int(tmp)"
   ]
  },
  {
   "cell_type": "code",
   "execution_count": 21,
   "metadata": {},
   "outputs": [
    {
     "name": "stdout",
     "output_type": "stream",
     "text": [
      "4680\n",
      "4680\n",
      "4680\n"
     ]
    }
   ],
   "source": [
    "# 모두 같은 길이임을 확인\n",
    "print(len(video_title))\n",
    "print(len(video_length))\n",
    "print(len(views))"
   ]
  },
  {
   "cell_type": "code",
   "execution_count": 31,
   "metadata": {},
   "outputs": [
    {
     "data": {
      "text/html": [
       "<div>\n",
       "<style scoped>\n",
       "    .dataframe tbody tr th:only-of-type {\n",
       "        vertical-align: middle;\n",
       "    }\n",
       "\n",
       "    .dataframe tbody tr th {\n",
       "        vertical-align: top;\n",
       "    }\n",
       "\n",
       "    .dataframe thead th {\n",
       "        text-align: right;\n",
       "    }\n",
       "</style>\n",
       "<table border=\"1\" class=\"dataframe\">\n",
       "  <thead>\n",
       "    <tr style=\"text-align: right;\">\n",
       "      <th></th>\n",
       "      <th>title</th>\n",
       "      <th>length</th>\n",
       "      <th>views</th>\n",
       "    </tr>\n",
       "  </thead>\n",
       "  <tbody>\n",
       "    <tr>\n",
       "      <th>0</th>\n",
       "      <td>침착맨의 취향</td>\n",
       "      <td>13:43</td>\n",
       "      <td>300590</td>\n",
       "    </tr>\n",
       "    <tr>\n",
       "      <th>1</th>\n",
       "      <td>인싸들 먹거리 탐구시간</td>\n",
       "      <td>19:54</td>\n",
       "      <td>528856</td>\n",
       "    </tr>\n",
       "    <tr>\n",
       "      <th>2</th>\n",
       "      <td>음식 속 최고의 '힘숨찐' 재료 월드컵</td>\n",
       "      <td>21:44</td>\n",
       "      <td>458111</td>\n",
       "    </tr>\n",
       "    <tr>\n",
       "      <th>3</th>\n",
       "      <td>침착맨 스튜디오에 놀러온 승우아빠 님</td>\n",
       "      <td>17:08</td>\n",
       "      <td>348355</td>\n",
       "    </tr>\n",
       "    <tr>\n",
       "      <th>4</th>\n",
       "      <td>침투부 100만 특집기획 '침착맨이 듣는다'</td>\n",
       "      <td>32:05</td>\n",
       "      <td>456495</td>\n",
       "    </tr>\n",
       "  </tbody>\n",
       "</table>\n",
       "</div>"
      ],
      "text/plain": [
       "                      title length   views\n",
       "0                   침착맨의 취향  13:43  300590\n",
       "1              인싸들 먹거리 탐구시간  19:54  528856\n",
       "2     음식 속 최고의 '힘숨찐' 재료 월드컵  21:44  458111\n",
       "3      침착맨 스튜디오에 놀러온 승우아빠 님  17:08  348355\n",
       "4  침투부 100만 특집기획 '침착맨이 듣는다'  32:05  456495"
      ]
     },
     "execution_count": 31,
     "metadata": {},
     "output_type": "execute_result"
    }
   ],
   "source": [
    "import pandas as pd\n",
    "\n",
    "# 이를 통해 데이터프레임 생성.\n",
    "df = pd.DataFrame({'title': video_title,'length': video_length ,'views': views})\n",
    "df.head()"
   ]
  },
  {
   "cell_type": "code",
   "execution_count": 37,
   "metadata": {},
   "outputs": [],
   "source": [
    "# 영상 시간 데이터를 범주형 데이터로 바꾸기 위한 함수 작성\n",
    "\n",
    "def classifyLength(length):\n",
    "    tmp = length.split(\":\")\n",
    "    if len(tmp) == 1:\n",
    "        return '5분 미만'\n",
    "    elif len(tmp) == 2:\n",
    "        if int(tmp[0]) < 5:\n",
    "            return '5분 미만'\n",
    "        elif int(tmp[0]) < 15:\n",
    "            return '5분 ~ 15분'\n",
    "        elif int(tmp[0]) < 30:\n",
    "            return '15분 ~ 30분'\n",
    "        else:\n",
    "            return '30분 ~ 1시간'\n",
    "    elif len(tmp) == 3:\n",
    "        if int(tmp[0]) < 2:\n",
    "            return '1시간 ~ 2시간'\n",
    "        else:\n",
    "            return '2시간 이상'\n",
    "    else: # len(tmp) >= 4\n",
    "        return '2시간 이상'"
   ]
  },
  {
   "cell_type": "code",
   "execution_count": 38,
   "metadata": {},
   "outputs": [
    {
     "data": {
      "text/html": [
       "<div>\n",
       "<style scoped>\n",
       "    .dataframe tbody tr th:only-of-type {\n",
       "        vertical-align: middle;\n",
       "    }\n",
       "\n",
       "    .dataframe tbody tr th {\n",
       "        vertical-align: top;\n",
       "    }\n",
       "\n",
       "    .dataframe thead th {\n",
       "        text-align: right;\n",
       "    }\n",
       "</style>\n",
       "<table border=\"1\" class=\"dataframe\">\n",
       "  <thead>\n",
       "    <tr style=\"text-align: right;\">\n",
       "      <th></th>\n",
       "      <th>title</th>\n",
       "      <th>length</th>\n",
       "      <th>views</th>\n",
       "    </tr>\n",
       "  </thead>\n",
       "  <tbody>\n",
       "    <tr>\n",
       "      <th>0</th>\n",
       "      <td>침착맨의 취향</td>\n",
       "      <td>5분 ~ 15분</td>\n",
       "      <td>300590</td>\n",
       "    </tr>\n",
       "    <tr>\n",
       "      <th>1</th>\n",
       "      <td>인싸들 먹거리 탐구시간</td>\n",
       "      <td>15분 ~ 30분</td>\n",
       "      <td>528856</td>\n",
       "    </tr>\n",
       "    <tr>\n",
       "      <th>2</th>\n",
       "      <td>음식 속 최고의 '힘숨찐' 재료 월드컵</td>\n",
       "      <td>15분 ~ 30분</td>\n",
       "      <td>458111</td>\n",
       "    </tr>\n",
       "    <tr>\n",
       "      <th>3</th>\n",
       "      <td>침착맨 스튜디오에 놀러온 승우아빠 님</td>\n",
       "      <td>15분 ~ 30분</td>\n",
       "      <td>348355</td>\n",
       "    </tr>\n",
       "    <tr>\n",
       "      <th>4</th>\n",
       "      <td>침투부 100만 특집기획 '침착맨이 듣는다'</td>\n",
       "      <td>30분 ~ 1시간</td>\n",
       "      <td>456495</td>\n",
       "    </tr>\n",
       "  </tbody>\n",
       "</table>\n",
       "</div>"
      ],
      "text/plain": [
       "                      title     length   views\n",
       "0                   침착맨의 취향   5분 ~ 15분  300590\n",
       "1              인싸들 먹거리 탐구시간  15분 ~ 30분  528856\n",
       "2     음식 속 최고의 '힘숨찐' 재료 월드컵  15분 ~ 30분  458111\n",
       "3      침착맨 스튜디오에 놀러온 승우아빠 님  15분 ~ 30분  348355\n",
       "4  침투부 100만 특집기획 '침착맨이 듣는다'  30분 ~ 1시간  456495"
      ]
     },
     "execution_count": 38,
     "metadata": {},
     "output_type": "execute_result"
    }
   ],
   "source": [
    "# 영상 시간 데이터를 범주형 데이터로 변환\n",
    "df['length'] = df['length'].apply(classifyLength)\n",
    "df.head()"
   ]
  },
  {
   "cell_type": "code",
   "execution_count": 45,
   "metadata": {},
   "outputs": [
    {
     "data": {
      "text/html": [
       "<div>\n",
       "<style scoped>\n",
       "    .dataframe tbody tr th:only-of-type {\n",
       "        vertical-align: middle;\n",
       "    }\n",
       "\n",
       "    .dataframe tbody tr th {\n",
       "        vertical-align: top;\n",
       "    }\n",
       "\n",
       "    .dataframe thead th {\n",
       "        text-align: right;\n",
       "    }\n",
       "</style>\n",
       "<table border=\"1\" class=\"dataframe\">\n",
       "  <thead>\n",
       "    <tr style=\"text-align: right;\">\n",
       "      <th></th>\n",
       "      <th>title</th>\n",
       "      <th>15분 ~ 30분</th>\n",
       "      <th>1시간 ~ 2시간</th>\n",
       "      <th>2시간 이상</th>\n",
       "      <th>30분 ~ 1시간</th>\n",
       "      <th>5분 ~ 15분</th>\n",
       "      <th>5분 미만</th>\n",
       "      <th>views</th>\n",
       "    </tr>\n",
       "  </thead>\n",
       "  <tbody>\n",
       "    <tr>\n",
       "      <th>0</th>\n",
       "      <td>침착맨의 취향</td>\n",
       "      <td>0</td>\n",
       "      <td>0</td>\n",
       "      <td>0</td>\n",
       "      <td>0</td>\n",
       "      <td>1</td>\n",
       "      <td>0</td>\n",
       "      <td>300590</td>\n",
       "    </tr>\n",
       "    <tr>\n",
       "      <th>1</th>\n",
       "      <td>인싸들 먹거리 탐구시간</td>\n",
       "      <td>1</td>\n",
       "      <td>0</td>\n",
       "      <td>0</td>\n",
       "      <td>0</td>\n",
       "      <td>0</td>\n",
       "      <td>0</td>\n",
       "      <td>528856</td>\n",
       "    </tr>\n",
       "    <tr>\n",
       "      <th>2</th>\n",
       "      <td>음식 속 최고의 '힘숨찐' 재료 월드컵</td>\n",
       "      <td>1</td>\n",
       "      <td>0</td>\n",
       "      <td>0</td>\n",
       "      <td>0</td>\n",
       "      <td>0</td>\n",
       "      <td>0</td>\n",
       "      <td>458111</td>\n",
       "    </tr>\n",
       "    <tr>\n",
       "      <th>3</th>\n",
       "      <td>침착맨 스튜디오에 놀러온 승우아빠 님</td>\n",
       "      <td>1</td>\n",
       "      <td>0</td>\n",
       "      <td>0</td>\n",
       "      <td>0</td>\n",
       "      <td>0</td>\n",
       "      <td>0</td>\n",
       "      <td>348355</td>\n",
       "    </tr>\n",
       "    <tr>\n",
       "      <th>4</th>\n",
       "      <td>침투부 100만 특집기획 '침착맨이 듣는다'</td>\n",
       "      <td>0</td>\n",
       "      <td>0</td>\n",
       "      <td>0</td>\n",
       "      <td>1</td>\n",
       "      <td>0</td>\n",
       "      <td>0</td>\n",
       "      <td>456495</td>\n",
       "    </tr>\n",
       "  </tbody>\n",
       "</table>\n",
       "</div>"
      ],
      "text/plain": [
       "                      title  15분 ~ 30분  1시간 ~ 2시간  2시간 이상  30분 ~ 1시간  \\\n",
       "0                   침착맨의 취향          0          0       0          0   \n",
       "1              인싸들 먹거리 탐구시간          1          0       0          0   \n",
       "2     음식 속 최고의 '힘숨찐' 재료 월드컵          1          0       0          0   \n",
       "3      침착맨 스튜디오에 놀러온 승우아빠 님          1          0       0          0   \n",
       "4  침투부 100만 특집기획 '침착맨이 듣는다'          0          0       0          1   \n",
       "\n",
       "   5분 ~ 15분  5분 미만   views  \n",
       "0         1      0  300590  \n",
       "1         0      0  528856  \n",
       "2         0      0  458111  \n",
       "3         0      0  348355  \n",
       "4         0      0  456495  "
      ]
     },
     "execution_count": 45,
     "metadata": {},
     "output_type": "execute_result"
    }
   ],
   "source": [
    "# 범주화 시킨 데이터를 One-hot encoding 진행\n",
    "\n",
    "encoded_length =  pd.get_dummies(df['length'])\n",
    "df = pd.concat([df['title'], encoded_length, df['views']], axis=1)\n",
    "df.head()"
   ]
  },
  {
   "cell_type": "markdown",
   "metadata": {},
   "source": [
    "### 03. 영상 제목 형태소 분석, BOW 생성"
   ]
  },
  {
   "cell_type": "code",
   "execution_count": 46,
   "metadata": {},
   "outputs": [],
   "source": [
    "# konlpy 모듈 사용\n",
    "\n",
    "import konlpy\n",
    "from konlpy.tag import Okt\n",
    "import numpy as np"
   ]
  },
  {
   "cell_type": "code",
   "execution_count": 47,
   "metadata": {},
   "outputs": [],
   "source": [
    "# 단어를 토큰화, 불용어를 제거할 수 있는 함수 작성.\n",
    "\n",
    "twitter_tag = Okt()\n",
    "\n",
    "def twitter_tokenizer(text):\n",
    "    malist = twitter_tag.pos(text, norm=True, stem=True)\n",
    "    r = []\n",
    "    for word in malist:\n",
    "        if not word[1] in [\"Josa\", 'Eomi', 'Punctuation', 'KoreanParticle']:\n",
    "            r.append(word[0])\n",
    "    return r"
   ]
  },
  {
   "cell_type": "markdown",
   "metadata": {},
   "source": [
    "한 여기부터 슬슬 잘못되어가고있다는 것을 느끼기 시작했습니다..ㅎ 피드백 부탁드립니다"
   ]
  },
  {
   "cell_type": "code",
   "execution_count": 55,
   "metadata": {},
   "outputs": [],
   "source": [
    "# train, test 데이터 생성\n",
    "\n",
    "from sklearn.model_selection import train_test_split\n",
    "from sklearn.linear_model import LinearRegression\n",
    "\n",
    "X = df.drop(['views'], axis=1)\n",
    "y = df['views']\n",
    "\n",
    "X_train, X_test, y_train, y_test = train_test_split(X, y, test_size=0.2, random_state=111)"
   ]
  },
  {
   "cell_type": "code",
   "execution_count": 56,
   "metadata": {},
   "outputs": [
    {
     "name": "stderr",
     "output_type": "stream",
     "text": [
      "C:\\Users\\timo\\AppData\\Roaming\\Python\\Python39\\site-packages\\sklearn\\feature_extraction\\text.py:489: UserWarning: The parameter 'token_pattern' will not be used since 'tokenizer' is not None'\n",
      "  warnings.warn(\"The parameter 'token_pattern' will not be used\"\n"
     ]
    }
   ],
   "source": [
    "# CounterVectorizer를 이용하여 BOW 생성\n",
    "\n",
    "from sklearn.feature_extraction.text import CountVectorizer\n",
    "\n",
    "vect = CountVectorizer(tokenizer = twitter_tokenizer).fit(X_train['title'])"
   ]
  },
  {
   "cell_type": "code",
   "execution_count": 57,
   "metadata": {},
   "outputs": [
    {
     "data": {
      "text/plain": [
       "<3744x5636 sparse matrix of type '<class 'numpy.int64'>'\n",
       "\twith 40927 stored elements in Compressed Sparse Row format>"
      ]
     },
     "execution_count": 57,
     "metadata": {},
     "output_type": "execute_result"
    }
   ],
   "source": [
    "# sparse matrix 형태로 생성\n",
    "tokenized_title = vect.transform(X_train['title'])"
   ]
  },
  {
   "cell_type": "code",
   "execution_count": 68,
   "metadata": {},
   "outputs": [],
   "source": [
    "# 일반 행렬 형태로 변환 후 X_train데이터 완성\n",
    "\n",
    "X_train = np.concatenate((tokenized_title.toarray(), X_train.iloc[:, 1:].to_numpy()), axis=1)"
   ]
  },
  {
   "cell_type": "code",
   "execution_count": 69,
   "metadata": {},
   "outputs": [
    {
     "data": {
      "text/plain": [
       "LinearRegression()"
      ]
     },
     "execution_count": 69,
     "metadata": {},
     "output_type": "execute_result"
    }
   ],
   "source": [
    "# 선형 회귀 모델 생성\n",
    "lr = LinearRegression()\n",
    "lr.fit(X_train, y_train)"
   ]
  },
  {
   "cell_type": "code",
   "execution_count": 70,
   "metadata": {},
   "outputs": [],
   "source": [
    "#같은 방식으로 test 데이터 생성\n",
    "tokenized_title_test = vect.transform(X_test['title'])\n",
    "X_test = np.concatenate((tokenized_title_test.toarray(), X_test.iloc[:, 1:].to_numpy()), axis=1)"
   ]
  },
  {
   "cell_type": "code",
   "execution_count": 73,
   "metadata": {},
   "outputs": [
    {
     "name": "stdout",
     "output_type": "stream",
     "text": [
      "MSE : 4487101517230821128204553593815040.000, RMSE : 66985830719868072.000\n",
      "Variance score : -56621570492747562876928.000\n"
     ]
    }
   ],
   "source": [
    "from sklearn.metrics import mean_squared_error, r2_score\n",
    "\n",
    "pred = lr.predict(X_test)\n",
    "mse = mean_squared_error(y_test, pred)\n",
    "rmse = np.sqrt(mse)\n",
    "\n",
    "\n",
    "print('MSE : {0:.3f}, RMSE : {1:.3f}'.format(mse, rmse))\n",
    "print('Variance score : {0:.3f}'.format(r2_score(y_test, pred)))"
   ]
  },
  {
   "cell_type": "code",
   "execution_count": null,
   "metadata": {},
   "outputs": [],
   "source": []
  }
 ],
 "metadata": {
  "interpreter": {
   "hash": "ac59ebe37160ed0dfa835113d9b8498d9f09ceb179beaac4002f036b9467c963"
  },
  "kernelspec": {
   "display_name": "Python 3",
   "language": "python",
   "name": "python3"
  },
  "language_info": {
   "codemirror_mode": {
    "name": "ipython",
    "version": 3
   },
   "file_extension": ".py",
   "mimetype": "text/x-python",
   "name": "python",
   "nbconvert_exporter": "python",
   "pygments_lexer": "ipython3",
   "version": "3.8.5"
  }
 },
 "nbformat": 4,
 "nbformat_minor": 2
}
