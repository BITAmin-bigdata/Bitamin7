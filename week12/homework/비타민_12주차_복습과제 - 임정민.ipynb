{
 "cells": [
  {
   "cell_type": "markdown",
   "metadata": {},
   "source": [
    "## <font color=pink>피드백</font>"
   ]
  },
  {
   "cell_type": "markdown",
   "metadata": {},
   "source": [
    "<font color=pink>\n",
    "1. EDA까지 해주셨다면 더 좋았을 것 같습니다<br>\n",
    "2. EDA를 하기에 적합한 데이터 크롤링(양질의 측면)이 이루어지면 더 좋을 것 같습니다.\n",
    "</font>"
   ]
  },
  {
   "cell_type": "code",
   "execution_count": 6,
   "metadata": {
    "scrolled": true
   },
   "outputs": [
    {
     "name": "stdout",
     "output_type": "stream",
     "text": [
      "Collecting webdriver-manager\n",
      "  Downloading webdriver_manager-3.4.2-py2.py3-none-any.whl (16 kB)\n",
      "Collecting crayons\n",
      "  Downloading crayons-0.4.0-py2.py3-none-any.whl (4.6 kB)\n",
      "Collecting configparser\n",
      "  Downloading configparser-5.0.2-py3-none-any.whl (19 kB)\n",
      "Requirement already satisfied: requests in c:\\programdata\\anaconda3\\lib\\site-packages (from webdriver-manager) (2.24.0)\n",
      "Requirement already satisfied: colorama in c:\\programdata\\anaconda3\\lib\\site-packages (from crayons->webdriver-manager) (0.4.4)\n",
      "Requirement already satisfied: urllib3!=1.25.0,!=1.25.1,<1.26,>=1.21.1 in c:\\programdata\\anaconda3\\lib\\site-packages (from requests->webdriver-manager) (1.25.11)\n",
      "Requirement already satisfied: chardet<4,>=3.0.2 in c:\\programdata\\anaconda3\\lib\\site-packages (from requests->webdriver-manager) (3.0.4)\n",
      "Requirement already satisfied: idna<3,>=2.5 in c:\\programdata\\anaconda3\\lib\\site-packages (from requests->webdriver-manager) (2.10)\n",
      "Requirement already satisfied: certifi>=2017.4.17 in c:\\programdata\\anaconda3\\lib\\site-packages (from requests->webdriver-manager) (2020.6.20)\n",
      "Installing collected packages: crayons, configparser, webdriver-manager\n",
      "Successfully installed configparser-5.0.2 crayons-0.4.0 webdriver-manager-3.4.2\n",
      "Note: you may need to restart the kernel to use updated packages.\n"
     ]
    }
   ],
   "source": [
    "pip install webdriver-manager"
   ]
  },
  {
   "cell_type": "code",
   "execution_count": 7,
   "metadata": {},
   "outputs": [],
   "source": [
    "import time\n",
    "import pandas as pd\n",
    "from selenium import webdriver\n",
    "from selenium.webdriver.common.keys import Keys\n",
    "from webdriver_manager.chrome import ChromeDriverManager"
   ]
  },
  {
   "cell_type": "markdown",
   "metadata": {},
   "source": [
    "### 에브리타임 크롤링"
   ]
  },
  {
   "cell_type": "code",
   "execution_count": 8,
   "metadata": {},
   "outputs": [],
   "source": [
    "from selenium.webdriver.chrome.options import Options"
   ]
  },
  {
   "cell_type": "markdown",
   "metadata": {},
   "source": [
    "커뮤니티 ID, PW 정보 입력"
   ]
  },
  {
   "cell_type": "code",
   "execution_count": 9,
   "metadata": {},
   "outputs": [],
   "source": [
    "id_ = \"\"\n",
    "pw_ = \"\"\n",
    "#이거는 개인정보라 삭제했습니다 에타 아이디, 비번 넣으시면 돼요!"
   ]
  },
  {
   "cell_type": "code",
   "execution_count": 12,
   "metadata": {},
   "outputs": [
    {
     "name": "stderr",
     "output_type": "stream",
     "text": [
      "\n",
      "\n",
      "====== WebDriver manager ======\n",
      "Current google-chrome version is 91.0.4472\n",
      "Get LATEST driver version for 91.0.4472\n",
      "Driver [C:\\Users\\임정민\\.wdm\\drivers\\chromedriver\\win32\\91.0.4472.101\\chromedriver.exe] found in cache\n",
      "<ipython-input-12-33366709a6af>:5: DeprecationWarning: use options instead of chrome_options\n",
      "  driver = webdriver.Chrome(ChromeDriverManager().install(), chrome_options=options)\n"
     ]
    }
   ],
   "source": [
    "options = Options()\n",
    "# chrome을 전체화면으로 넓히는 옵션입니다.\n",
    "options.add_argument('--start-fullscreen')\n",
    "\n",
    "driver = webdriver.Chrome(ChromeDriverManager().install(), chrome_options=options) \n",
    "driver.implicitly_wait(3)"
   ]
  },
  {
   "cell_type": "markdown",
   "metadata": {},
   "source": [
    "ID, PW 정보 입력 후 ENTER key로 로그인"
   ]
  },
  {
   "cell_type": "code",
   "execution_count": 13,
   "metadata": {
    "scrolled": true
   },
   "outputs": [],
   "source": [
    "driver.get('https://everytime.kr/')\n",
    "\n",
    "driver.find_element_by_css_selector('body > aside > div.login > a.button.login').click()\n",
    "time.sleep(3)\n",
    "id_s = driver.find_element_by_xpath('//*[@id=\"container\"]/form/p[1]/input')\n",
    "id_s.send_keys(id_)\n",
    "time.sleep(1)\n",
    "pw_s = driver.find_element_by_xpath('//*[@id=\"container\"]/form/p[2]/input')\n",
    "pw_s.send_keys(pw_)\n",
    "pw_s.send_keys(Keys.ENTER)"
   ]
  },
  {
   "cell_type": "markdown",
   "metadata": {},
   "source": [
    "자유게시판 클릭"
   ]
  },
  {
   "cell_type": "code",
   "execution_count": 14,
   "metadata": {},
   "outputs": [],
   "source": [
    "driver.find_element_by_css_selector('#submenu > div > div:nth-child(2) > ul > li:nth-child(1) > a').click()"
   ]
  },
  {
   "cell_type": "markdown",
   "metadata": {},
   "source": [
    "게시글 제목과 본문 크롤링"
   ]
  },
  {
   "cell_type": "code",
   "execution_count": 15,
   "metadata": {},
   "outputs": [],
   "source": [
    "total_header = []\n",
    "total_contents = []\n",
    "\n",
    "for i in range(2, 12 + 1):  ## 게시물 10개 크롤링\n",
    "    head = driver.find_element_by_css_selector(\n",
    "            f\"#container > div.wrap.articles > article:nth-child({i}) > a > h2\")\n",
    "    contents = driver.find_element_by_css_selector(\n",
    "            f\"#container > div.wrap.articles > article:nth-child({i}) > a > p\")\n",
    "    time.sleep(1)\n",
    "    total_header.append(head.text)\n",
    "    total_contents.append(contents.text)"
   ]
  },
  {
   "cell_type": "code",
   "execution_count": 16,
   "metadata": {},
   "outputs": [
    {
     "data": {
      "text/html": [
       "<div>\n",
       "<style scoped>\n",
       "    .dataframe tbody tr th:only-of-type {\n",
       "        vertical-align: middle;\n",
       "    }\n",
       "\n",
       "    .dataframe tbody tr th {\n",
       "        vertical-align: top;\n",
       "    }\n",
       "\n",
       "    .dataframe thead th {\n",
       "        text-align: right;\n",
       "    }\n",
       "</style>\n",
       "<table border=\"1\" class=\"dataframe\">\n",
       "  <thead>\n",
       "    <tr style=\"text-align: right;\">\n",
       "      <th></th>\n",
       "      <th>header</th>\n",
       "      <th>contents</th>\n",
       "    </tr>\n",
       "  </thead>\n",
       "  <tbody>\n",
       "    <tr>\n",
       "      <th>0</th>\n",
       "      <td>중학교 과외 해주실분 구합니다!</td>\n",
       "      <td>여자 중학교 3학년 2학기 선행과정 수학,과학 과외 구합니다.! 둘다 가능하면 좋고...</td>\n",
       "    </tr>\n",
       "    <tr>\n",
       "      <th>1</th>\n",
       "      <td>알바 고민 있어 도와줘 ㅠㅠㅠ</td>\n",
       "      <td>오늘 하고 왔는데 영 아닌것 같고 좀 힘든데 계속 해야할지 고민이야 ㅠㅠㅠ 수학학원...</td>\n",
       "    </tr>\n",
       "    <tr>\n",
       "      <th>2</th>\n",
       "      <td>계절 기말 좋은 말로 할 때</td>\n",
       "      <td>비대면으로 해라. 형 화낼 거야. 많이 화낼 거야. 울거야 제발</td>\n",
       "    </tr>\n",
       "    <tr>\n",
       "      <th>3</th>\n",
       "      <td>국가근로장학금</td>\n",
       "      <td>국가근로장학금 신청하려하는데 신청 가능한 대학이 아니라고 떠요ㅠㅠ 어떻게 해야하죠?</td>\n",
       "    </tr>\n",
       "    <tr>\n",
       "      <th>4</th>\n",
       "      <td>오픽</td>\n",
       "      <td>오픽 공부 다들 어떻게 하셨나요?</td>\n",
       "    </tr>\n",
       "    <tr>\n",
       "      <th>5</th>\n",
       "      <td>사업아이디어 평가좀</td>\n",
       "      <td>“자취생 홈푸드 딜리버리 서비스” 비즈니스 모델 : 매 끼니 식사를 해결해야 하는 ...</td>\n",
       "    </tr>\n",
       "    <tr>\n",
       "      <th>6</th>\n",
       "      <td>전과 학점 볼때</td>\n",
       "      <td>4.5로 변환해서 줄 세우나요?</td>\n",
       "    </tr>\n",
       "    <tr>\n",
       "      <th>7</th>\n",
       "      <td>코로나</td>\n",
       "      <td>잠복기 보통 며칠 정도 돼..?</td>\n",
       "    </tr>\n",
       "    <tr>\n",
       "      <th>8</th>\n",
       "      <td>사실상 막학기 끝</td>\n",
       "      <td>다음 학기 3학점은 대충 해야지...ㅎ</td>\n",
       "    </tr>\n",
       "    <tr>\n",
       "      <th>9</th>\n",
       "      <td>반수생 학점 2.5ㅋㅋ</td>\n",
       "      <td>반수생 달린다</td>\n",
       "    </tr>\n",
       "    <tr>\n",
       "      <th>10</th>\n",
       "      <td>아</td>\n",
       "      <td>사람 장단 맞추기 너무 어렵네....... 사회생활 하기.싫다....</td>\n",
       "    </tr>\n",
       "  </tbody>\n",
       "</table>\n",
       "</div>"
      ],
      "text/plain": [
       "               header                                           contents\n",
       "0   중학교 과외 해주실분 구합니다!  여자 중학교 3학년 2학기 선행과정 수학,과학 과외 구합니다.! 둘다 가능하면 좋고...\n",
       "1    알바 고민 있어 도와줘 ㅠㅠㅠ  오늘 하고 왔는데 영 아닌것 같고 좀 힘든데 계속 해야할지 고민이야 ㅠㅠㅠ 수학학원...\n",
       "2     계절 기말 좋은 말로 할 때                비대면으로 해라. 형 화낼 거야. 많이 화낼 거야. 울거야 제발\n",
       "3             국가근로장학금     국가근로장학금 신청하려하는데 신청 가능한 대학이 아니라고 떠요ㅠㅠ 어떻게 해야하죠?\n",
       "4                  오픽                                 오픽 공부 다들 어떻게 하셨나요?\n",
       "5          사업아이디어 평가좀  “자취생 홈푸드 딜리버리 서비스” 비즈니스 모델 : 매 끼니 식사를 해결해야 하는 ...\n",
       "6            전과 학점 볼때                                  4.5로 변환해서 줄 세우나요?\n",
       "7                 코로나                                  잠복기 보통 며칠 정도 돼..?\n",
       "8           사실상 막학기 끝                              다음 학기 3학점은 대충 해야지...ㅎ\n",
       "9        반수생 학점 2.5ㅋㅋ                                            반수생 달린다\n",
       "10                  아             사람 장단 맞추기 너무 어렵네....... 사회생활 하기.싫다...."
      ]
     },
     "execution_count": 16,
     "metadata": {},
     "output_type": "execute_result"
    }
   ],
   "source": [
    "data = {\"header\": total_header, \"contents\" : total_contents}\n",
    "\n",
    "df = pd.DataFrame(data, columns = [\"header\",\"contents\"])\n",
    "df"
   ]
  },
  {
   "cell_type": "code",
   "execution_count": null,
   "metadata": {},
   "outputs": [],
   "source": []
  }
 ],
 "metadata": {
  "kernelspec": {
   "display_name": "Python 3",
   "language": "python",
   "name": "python3"
  },
  "language_info": {
   "codemirror_mode": {
    "name": "ipython",
    "version": 3
   },
   "file_extension": ".py",
   "mimetype": "text/x-python",
   "name": "python",
   "nbconvert_exporter": "python",
   "pygments_lexer": "ipython3",
   "version": "3.8.5"
  }
 },
 "nbformat": 4,
 "nbformat_minor": 4
}
