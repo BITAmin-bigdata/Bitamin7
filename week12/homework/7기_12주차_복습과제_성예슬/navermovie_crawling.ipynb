{
 "cells": [
  {
   "cell_type": "code",
   "execution_count": null,
   "metadata": {
    "id": "competitive-confidence"
   },
   "outputs": [],
   "source": [
    "import requests\n",
    "import time\n",
    "import random\n",
    "from bs4 import BeautifulSoup\n",
    "import pandas as pd\n",
    "\n",
    "base = \"https://movie.naver.com/movie/point/af/list.nhn?&page={}\"\n",
    "clist = []\n",
    "for page in range(1, 1001): #네이버 영화 평점 페이지는 1000페이지까지만 조회가 가능\n",
    "    url = base.format(page)\n",
    "    res = requests.get(url)\n",
    "    if res.status_code == 200:\n",
    "        soup = BeautifulSoup(res.text, \"lxml\")\n",
    "        tds = soup.select(\"table.list_netizen > tbody > tr > td.title\")\n",
    "        for td in tds:\n",
    "            title = td.select_one(\"a.movie\").text.strip()\n",
    "            score = td.select_one(\"div.list_netizen_score > em\").text.strip()\n",
    "            comment = td.select_one(\"br\").next_sibling.strip()\n",
    "            clist.append((title, score, comment))\n",
    "        interval = round(random.uniform(0.2, 1.2), 2)\n",
    "        time.sleep(interval)\n",
    "    print(\"종료\")\n",
    "df1 = pd.DataFrame(clist, columns = [\"title\", \"rating\", \"comment\"])"
   ]
  },
  {
   "cell_type": "code",
   "execution_count": 3,
   "metadata": {
    "colab": {
     "base_uri": "https://localhost:8080/",
     "height": 204
    },
    "id": "f_F1Wymf8XKl",
    "outputId": "b1c45b6d-b7f7-4c05-8ad0-5edcd50858bd"
   },
   "outputs": [
    {
     "data": {
      "text/html": [
       "<div>\n",
       "<style scoped>\n",
       "    .dataframe tbody tr th:only-of-type {\n",
       "        vertical-align: middle;\n",
       "    }\n",
       "\n",
       "    .dataframe tbody tr th {\n",
       "        vertical-align: top;\n",
       "    }\n",
       "\n",
       "    .dataframe thead th {\n",
       "        text-align: right;\n",
       "    }\n",
       "</style>\n",
       "<table border=\"1\" class=\"dataframe\">\n",
       "  <thead>\n",
       "    <tr style=\"text-align: right;\">\n",
       "      <th></th>\n",
       "      <th>title</th>\n",
       "      <th>rating</th>\n",
       "      <th>comment</th>\n",
       "    </tr>\n",
       "  </thead>\n",
       "  <tbody>\n",
       "    <tr>\n",
       "      <th>0</th>\n",
       "      <td>체르노빌 1986</td>\n",
       "      <td>8</td>\n",
       "      <td>실화영화 잘 봤어요~~</td>\n",
       "    </tr>\n",
       "    <tr>\n",
       "      <th>1</th>\n",
       "      <td>인 더 하이츠</td>\n",
       "      <td>8</td>\n",
       "      <td>노래 네곡이 딱 좋았어요In the HeightsBreathe할머니노래(제목이?)C...</td>\n",
       "    </tr>\n",
       "    <tr>\n",
       "      <th>2</th>\n",
       "      <td>블랙 위도우</td>\n",
       "      <td>10</td>\n",
       "      <td>마블영화중에 제일재미있게봤어요</td>\n",
       "    </tr>\n",
       "    <tr>\n",
       "      <th>3</th>\n",
       "      <td>발신제한</td>\n",
       "      <td>10</td>\n",
       "      <td>결말이 허무하다는 말이 많았는데스릴러 좋아하는 사람으로서 너무 재밌었고긴장감도 너무...</td>\n",
       "    </tr>\n",
       "    <tr>\n",
       "      <th>4</th>\n",
       "      <td>블랙 위도우</td>\n",
       "      <td>4</td>\n",
       "      <td>윈터솔져에서 액션 양 절반 줄이고 질 절반 줄이면 블랙위도우인듯 음악은 완전 좋았어요</td>\n",
       "    </tr>\n",
       "  </tbody>\n",
       "</table>\n",
       "</div>"
      ],
      "text/plain": [
       "       title rating                                            comment\n",
       "0  체르노빌 1986      8                                       실화영화 잘 봤어요~~\n",
       "1    인 더 하이츠      8  노래 네곡이 딱 좋았어요In the HeightsBreathe할머니노래(제목이?)C...\n",
       "2     블랙 위도우     10                                   마블영화중에 제일재미있게봤어요\n",
       "3       발신제한     10  결말이 허무하다는 말이 많았는데스릴러 좋아하는 사람으로서 너무 재밌었고긴장감도 너무...\n",
       "4     블랙 위도우      4    윈터솔져에서 액션 양 절반 줄이고 질 절반 줄이면 블랙위도우인듯 음악은 완전 좋았어요"
      ]
     },
     "execution_count": 3,
     "metadata": {
      "tags": []
     },
     "output_type": "execute_result"
    }
   ],
   "source": [
    "df1.head()"
   ]
  },
  {
   "cell_type": "code",
   "execution_count": 26,
   "metadata": {
    "colab": {
     "base_uri": "https://localhost:8080/",
     "height": 0
    },
    "id": "FwJtwUnU8cO8",
    "outputId": "8ec2840f-40d6-46ca-c353-2101373c394f"
   },
   "outputs": [
    {
     "data": {
      "text/plain": [
       "제8일의 밤         1986\n",
       "미드나이트          1123\n",
       "발신제한            630\n",
       "크루엘라            508\n",
       "콰이어트 플레이스 2     360\n",
       "               ... \n",
       "크롤               10\n",
       "콰이어트 플레이스        10\n",
       "걸캅스              10\n",
       "클래식              10\n",
       "비와 당신의 이야기       10\n",
       "Name: title, Length: 68, dtype: int64"
      ]
     },
     "execution_count": 26,
     "metadata": {
      "tags": []
     },
     "output_type": "execute_result"
    }
   ],
   "source": [
    "#rating & comment가 10개 이하인 영화는 제외\n",
    "idx = df1[\"title\"].value_counts().reset_index().query(\"title < 10\")[\"index\"]\n",
    "df2 = df1[df1[\"title\"].isin(idx) == False]\n",
    "df2[\"title\"].value_counts()"
   ]
  },
  {
   "cell_type": "code",
   "execution_count": 63,
   "metadata": {
    "id": "civil-company"
   },
   "outputs": [],
   "source": [
    "df1.to_csv(\"nmovie.csv\", encoding = \"utf-8\")"
   ]
  }
 ],
 "metadata": {
  "colab": {
   "name": "navermovie_crawling.ipynb",
   "provenance": []
  },
  "kernelspec": {
   "display_name": "Python 3",
   "language": "python",
   "name": "python3"
  },
  "language_info": {
   "codemirror_mode": {
    "name": "ipython",
    "version": 3
   },
   "file_extension": ".py",
   "mimetype": "text/x-python",
   "name": "python",
   "nbconvert_exporter": "python",
   "pygments_lexer": "ipython3",
   "version": "3.8.5"
  }
 },
 "nbformat": 4,
 "nbformat_minor": 5
}
